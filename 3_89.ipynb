{
 "cells": [
  {
   "cell_type": "code",
   "execution_count": 8,
   "id": "fbb9cb91",
   "metadata": {},
   "outputs": [],
   "source": [
    "import scipy.integrate as integrate\n",
    "import numpy as np\n",
    "\n",
    "def system(y, t, epsilon=-1):\n",
    "    return [y[1], y[1] * (epsilon - y[0] ** 2) - y[0]]\n",
    "\n",
    "time = np.linspace(0, 20, num=100)\n",
    "y0 = [[(i, j) for i in np.arange(-5, 5, 0.5)] for j in np.arange(-5, 5, 0.5)]\n",
    "data = []\n",
    "for i in range(len(y0)):\n",
    "    for j in range(len(y0[i])):\n",
    "        data.append(integrate.odeint(system, y0[i][j], time))\n",
    "x= []\n",
    "y = []"
   ]
  },
  {
   "cell_type": "code",
   "execution_count": 10,
   "id": "57b30aac",
   "metadata": {},
   "outputs": [
    {
     "data": {
      "image/png": "[encoded data removed]",
      "text/plain": [
       "<Figure size 432x288 with 1 Axes>"
      ]
     },
     "metadata": {},
     "output_type": "display_data"
    }
   ],
   "source": [
    "import matplotlib.pyplot as plt\n",
    "import matplotlib.animation\n",
    "import numpy as np \n",
    "from IPython.display import display, clear_output\n",
    "\n",
    "fig, ax = plt.subplots()\n",
    "image = ax.plot(x, y, 'o')\n",
    "plt.grid(True)\n",
    "ax.set_ylim([-np.max(data) - 1, np.max(data) + 1])\n",
    "ax.set_xlim([-4, 4])\n",
    "\n",
    "for i in range(len(time)):\n",
    "    x = []\n",
    "    y = []\n",
    "    for dot in data:\n",
    "        x.append(dot[i][0])\n",
    "        y.append(dot[i][1])   \n",
    "    image[0].set_data(x, y)\n",
    "    clear_output(wait=True)   \n",
    "    display(fig)    \n",
    "    plt.show()\n",
    "            \n"
   ]
  },
  {
   "cell_type": "code",
   "execution_count": null,
   "id": "859ac735",
   "metadata": {},
   "outputs": [],
   "source": []
  },
  {
   "cell_type": "code",
   "execution_count": null,
   "id": "ce5519f1",
   "metadata": {},
   "outputs": [],
   "source": []
  }
 ],
 "metadata": {
  "kernelspec": {
   "display_name": "Python 3 (ipykernel)",
   "language": "python",
   "name": "python3"
  },
  "language_info": {
   "codemirror_mode": {
    "name": "ipython",
    "version": 3
   },
   "file_extension": ".py",
   "mimetype": "text/x-python",
   "name": "python",
   "nbconvert_exporter": "python",
   "pygments_lexer": "ipython3",
   "version": "3.9.12"
  }
 },
 "nbformat": 4,
 "nbformat_minor": 5
}
